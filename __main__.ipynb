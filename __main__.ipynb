{
 "cells": [
  {
   "cell_type": "code",
   "execution_count": 1,
   "metadata": {},
   "outputs": [],
   "source": [
    "## Load the model\n",
    "from langchain_ollama import ChatOllama\n",
    "from langchain_core.prompts import ChatPromptTemplate, PromptTemplate\n",
    "from langchain_core.messages import HumanMessage\n",
    "\n",
    "query_text = 'how should I take care of my parents with Alzheimer disease?'\n",
    "user_id = 'John Snow'\n",
    "\n",
    "GENERATION_PROMPT = \"\"\"\n",
    "Based on the provided context, answer the user's question. If the context doesn't contain enough information or your not sure, say so.\n",
    "\n",
    "Context:\n",
    "{context}\n",
    "\n",
    "Question: {question}\n",
    "\n",
    "Return a clear and concise answer. The output should be in the following format:\n",
    "\n",
    "Answer: <answer>\n",
    "Sources: <sources>\n",
    "\n",
    "If context isn't provided, use \"Answer\" should start with \"Sorry, I don't have enough information to answer that question.\" and \"Sources\" should be empty.\n",
    "\"\"\"\n",
    "\n",
    "# memories = mem0.search(query_text, user_id)\n",
    "\n",
    "prompt = PromptTemplate(\n",
    "    input_variables=[\"context\", \"question\"],\n",
    "    template=GENERATION_PROMPT\n",
    ")\n",
    "\n",
    "chat_prompt = ChatPromptTemplate.from_messages([\n",
    "    (\"system\", \"You are a helpful assistant.\"),\n",
    "    HumanMessage(content=query_text),\n",
    "    # (\"system\", prompt)\n",
    "    \n",
    "])\n",
    "\n",
    "# query_text = 'what is the specialty for Chinese language. ' \n",
    "\n",
    "local_llm = 'marco-o1'\n",
    "local_embedding_model = 'BAAI/bge-m3'\n",
    "\n",
    "llm = ChatOllama(model=local_llm, temperature=0.0)\n",
    "llm_json_mode = ChatOllama(model=local_llm, temperature=0.0, format='json')"
   ]
  },
  {
   "cell_type": "markdown",
   "metadata": {},
   "source": [
    "### Initialize Vector store and embedding model\n",
    "\n",
    "Get peer support knowledge base and research knowledge base\n",
    "\n",
    "---------------------------"
   ]
  },
  {
   "cell_type": "code",
   "execution_count": 2,
   "metadata": {},
   "outputs": [
    {
     "name": "stdout",
     "output_type": "stream",
     "text": [
      "\u001b[32m2025-01-15 @ 12:31:24\u001b[0m | \u001b[1mINFO    \u001b[0m | \u001b[36mutils.logger\u001b[0m:\u001b[36m<module>\u001b[0m:\u001b[36m56\u001b[0m - \u001b[1mLogger initialized successfully\u001b[0m\n"
     ]
    },
    {
     "name": "stderr",
     "output_type": "stream",
     "text": [
      "/Users/drakezhou/Development-Projects/LangchainRag_Ollama/venv/langchain_ollama/lib/python3.11/site-packages/tqdm/auto.py:21: TqdmWarning: IProgress not found. Please update jupyter and ipywidgets. See https://ipywidgets.readthedocs.io/en/stable/user_install.html\n",
      "  from .autonotebook import tqdm as notebook_tqdm\n"
     ]
    },
    {
     "name": "stdout",
     "output_type": "stream",
     "text": [
      "\u001b[32m2025-01-15 @ 12:31:27\u001b[0m | \u001b[1mINFO    \u001b[0m | \u001b[36membedding.embedding_models\u001b[0m:\u001b[36mget_bge_embedding\u001b[0m:\u001b[36m28\u001b[0m - \u001b[1mUsing device: mps\u001b[0m\n",
      "\u001b[32m2025-01-15 @ 12:31:27\u001b[0m | \u001b[1mINFO    \u001b[0m | \u001b[36membedding.embedding_models\u001b[0m:\u001b[36mget_bge_embedding\u001b[0m:\u001b[36m29\u001b[0m - \u001b[1mLoading BGE embedding model: BAAI/bge-m3\u001b[0m\n",
      "\u001b[32m2025-01-15 @ 12:31:31\u001b[0m | \u001b[1mINFO    \u001b[0m | \u001b[36membedding.embedding_models\u001b[0m:\u001b[36mget_bge_embedding\u001b[0m:\u001b[36m41\u001b[0m - \u001b[1mSuccessfully loaded BGE embedding model\u001b[0m\n"
     ]
    },
    {
     "name": "stderr",
     "output_type": "stream",
     "text": [
      "⚠️ It looks like you upgraded from a version below 0.6 and could benefit from vacuuming your database. Run chromadb utils vacuum --help for more information.\n",
      "⚠️ It looks like you upgraded from a version below 0.6 and could benefit from vacuuming your database. Run chromadb utils vacuum --help for more information.\n"
     ]
    }
   ],
   "source": [
    "from embedding.vector_store import VectorStore\n",
    "from embedding.embedding_models import EmbeddingModels\n",
    "\n",
    "embedding_model = EmbeddingModels().get_bge_embedding(model_name=local_embedding_model)\n",
    "vectorstore = VectorStore()\n",
    "\n",
    "peer_kb = vectorstore.get_chroma_vectorstore(\n",
    "    vectorstore_path='./data/vector_database/peer_kb', \n",
    "    embedding=embedding_model\n",
    ")\n",
    "\n",
    "research_kb = vectorstore.get_chroma_vectorstore(\n",
    "    vectorstore_path='./data/vector_database/research_kb', \n",
    "    embedding=embedding_model\n",
    ")"
   ]
  },
  {
   "cell_type": "code",
   "execution_count": 4,
   "metadata": {},
   "outputs": [
    {
     "name": "stdout",
     "output_type": "stream",
     "text": [
      "\u001b[32m2025-01-15 @ 12:31:57\u001b[0m | \u001b[1mINFO    \u001b[0m | \u001b[36mcheckpoints.routering\u001b[0m:\u001b[36mget_routing_decision\u001b[0m:\u001b[36m48\u001b[0m - \u001b[1mProcessing question: how should I take care of my parents with Alzheimer disease?\u001b[0m\n",
      "\u001b[32m2025-01-15 @ 12:32:03\u001b[0m | \u001b[1mINFO    \u001b[0m | \u001b[36mcheckpoints.routering\u001b[0m:\u001b[36mget_routing_decision\u001b[0m:\u001b[36m64\u001b[0m - \u001b[1mRouting decision: {'knowledge_base': 'research'}\u001b[0m\n"
     ]
    }
   ],
   "source": [
    "from checkpoints.routering import get_routing_decision\n",
    "\n",
    "intention_detection = get_routing_decision([HumanMessage(content=query_text)], model=local_llm)"
   ]
  },
  {
   "cell_type": "code",
   "execution_count": 6,
   "metadata": {},
   "outputs": [
    {
     "name": "stdout",
     "output_type": "stream",
     "text": [
      "\u001b[32m2025-01-15 @ 12:32:18\u001b[0m | \u001b[33m\u001b[1mWARNING \u001b[0m | \u001b[36membedding.vector_store\u001b[0m:\u001b[36mretrieve_docs\u001b[0m:\u001b[36m101\u001b[0m - \u001b[33m\u001b[1mRetrieved 5 documents\u001b[0m\n",
      "---------------------------||Document Number: 0 ||------------------------ \n",
      "=======\n",
      "\n",
      "You are not alone, twocat. We have several members on here that are taking care of family members that they had poor relationships with before Alzheimer's. It's a tough road for anyone, but your story has particular poignance. You may or may not have a legal obligation to care for your parent, and that may be something worth looking into, if for no other reason than knowing whether or not you \"have to\" do what you're doing.  Other people will have great advice and insight; I just want to make sure you get a response promptly. If you are able to get legal power of attorney and healthcare power of attorney those may be worthwhile, but only after you have discussed the situation, including prospects of keeping your mother where she is or moving her to your area and the legal ramifications of each. Alzheimer's is a stupendously expensive disease, with little support.\n",
      "\n",
      "=======\n",
      "{'author': 'Unknown', 'source': 'https://alzconnected.org/discussion/62283/caring-for-an-unliked-parent', 'source-tag': 'alzconnect', 'tag': 'Unknown', 'title': 'caring for an unliked parent'}\n",
      "\n",
      "\n",
      "---------------------------||Document Number: 1 ||------------------------ \n",
      "=======\n",
      "\n",
      "Many chapters of the Alzheimers Association have social workers who can sit down with families to talk productively and figure out care needs and expectations. Call your local chapter and see if they do care consults for families. I know multiple people who have had family members with differing views on care, finances, and responsibilities who found this very helpful. You need to be able to speak honestly and civilly about expectations and outcomes and also have realistic and accurate understanding of the disease progression mom will have. I would recommend you utilize a professional to facilitate, either through the Alz Assoc or someone you hire privately like a professional geriatric care manager. Is one of you DPOA? If not this stands to get quite messy and you will likely need an attorney who practices in elder law.\n",
      "\n",
      "=======\n",
      "{'author': 'Unknown', 'source': 'https://alzconnected.org/discussion/57198/care-coverage-after-year-is-coming-to-a-head', 'source-tag': 'alzconnect', 'tag': 'Unknown', 'title': 'Care Coverage after year is coming to a head'}\n",
      "\n",
      "\n",
      "---------------------------||Document Number: 2 ||------------------------ \n",
      "=======\n",
      "\n",
      "I'm sorry you must be here. Your mother may be able to manage herself for many years once she gets settled from the move. You'll have time to call 211 and find out what resources are available for her and you. Call the 1- 800 number for the Alzheimer's hotline and see what they can offer you. And get her a doctor right away and they may be able to suggest programs as well.   It is very daunting to care for a parent with Alz but the decline is usually slow and you'll learn as you go and most people rise to the occasion and do a good job. Keep educating yourself about care giving, The words of Jo Huey were a big help to me. They can be found here: https://amadaseniorcare.com/2019/06/caregiving-for-alzheimers/ Good luck and come back here often to share and learn.\n",
      "\n",
      "=======\n",
      "{'author': 'Unknown', 'source': 'https://alzconnected.org/discussion/56201/please-help-me', 'source-tag': 'alzconnect', 'tag': 'Unknown', 'title': 'Please HELP ME.'}\n",
      "\n",
      "\n",
      "---------------------------||Document Number: 3 ||------------------------ \n",
      "kind and understanding but not to the extreme where it takes you down too. Your mother and father's situation is different.  Do you have DPOA or medical POA, for either or both of them?  If not, you are at the mercy of what your mother wants.  I face the same situation with my parents.  It is not easy, but you just take it one day at a time when they are in denial that they can't do it alone. Remind yourself, that if you get down either mentally or physically you are of no help to any of them. Try calling 1-800 272 3900 and ask for a care consultant.  They are a service of the Alzheimer’s association .  The services are free, and they can help you with options and suggestions on how to deal with the multiple situations you face. Best wishes for better days.\n",
      "{'author': 'Unknown', 'source': 'https://alzconnected.org/discussion/58244/im-feeling-angry-guilty-overwhelmed-and-like-im-failing', 'source-tag': 'alzconnect', 'tag': 'Unknown', 'title': \"I'm feeling angry, guilty, overwhelmed, and like I'm failing\"}\n",
      "\n",
      "\n",
      "---------------------------||Document Number: 4 ||------------------------ \n",
      "=======\n",
      "\n",
      "Welcome ckube. Those are excellent questions. You are in a good place to get answers and support.  It can be incredibly overwhelming. If you have not done so already, I think talking with an attorney that specializes in elder law would be beneficial. An experienced elder law attorney can provide guidance on medicaid eligibility, rules and regs which may be important if you are concerned with the affordability of long term care. Different states have different rules and regs. In my experience, it is definitely not a do it yourself subject. My parents are 85 and 83. Mom is moderate stage Alzheimers. Dad is now displaying some cognitive impairment. His symptoms may be depression related or he may be overwhelmed with my mom's care. A home health agency should be able to provide care in your absence. I recommend interviewing a few and getting that ball moving soon. Others will have more guidance regarding memory care.  Take a deep breath. Blessings to you.\n",
      "\n",
      "=======\n",
      "{'author': 'Unknown', 'source': 'https://alzconnected.org/discussion/63721/newbie-need-help-advice', 'source-tag': 'alzconnect', 'tag': 'Unknown', 'title': 'Newbie - need help/advice'}\n",
      "\n",
      "\n"
     ]
    }
   ],
   "source": [
    "similarity_search_res = vectorstore.retrieve_docs(query=query_text, vectorstore=peer_kb, k=5)\n",
    "\n",
    "for i, doc in enumerate(similarity_search_res):\n",
    "    print(f\"---------------------------||Document Number: {i} ||------------------------ \")\n",
    "    print(doc.page_content)\n",
    "    print(doc.metadata)\n",
    "    print(\"\\n\")"
   ]
  },
  {
   "cell_type": "markdown",
   "metadata": {},
   "source": [
    "### Retrieve grading \n",
    "*Preventing hallucination and erroneous retrieval that is not relevant to the question but based on the idiosyncrasies of the embedding model or chunking.*\n",
    "\n",
    "---------------------"
   ]
  },
  {
   "cell_type": "code",
   "execution_count": 7,
   "metadata": {},
   "outputs": [
    {
     "name": "stdout",
     "output_type": "stream",
     "text": [
      "\u001b[32m2025-01-15 @ 12:32:25\u001b[0m | \u001b[1mINFO    \u001b[0m | \u001b[36mcheckpoints.retrieval_grading\u001b[0m:\u001b[36mgrade_retrieval\u001b[0m:\u001b[36m58\u001b[0m - \u001b[1mGrading relevance for question: how should I take care of my parents with Alzheimer disease?\u001b[0m\n",
      "Document: page_content='=======\n",
      "\n",
      "Many chapters of the Alzheimers Association have social workers who can sit down with families to talk productively and figure out care needs and expectations. Call your local chapter and see if they do care consults for families. I know multiple people who have had family members with differing views on care, finances, and responsibilities who found this very helpful. You need to be able to speak honestly and civilly about expectations and outcomes and also have realistic and accurate understanding of the disease progression mom will have. I would recommend you utilize a professional to facilitate, either through the Alz Assoc or someone you hire privately like a professional geriatric care manager. Is one of you DPOA? If not this stands to get quite messy and you will likely need an attorney who practices in elder law.\n",
      "\n",
      "=======' metadata={'author': 'Unknown', 'source': 'https://alzconnected.org/discussion/57198/care-coverage-after-year-is-coming-to-a-head', 'source-tag': 'alzconnect', 'tag': 'Unknown', 'title': 'Care Coverage after year is coming to a head'}\n",
      "Relevance Score: 0.8\n",
      "Reasoning: The retrieved document is highly relevant to the user's question because it provides specific guidance on how to navigate complex care decisions for a parent with Alzheimer's disease, including the importance of professional facilitation and legal considerations. The document also addresses key aspects of the question, such as care needs, expectations, and disease progression.\n",
      "\n",
      "Document: page_content='kind and understanding but not to the extreme where it takes you down too. Your mother and father's situation is different.  Do you have DPOA or medical POA, for either or both of them?  If not, you are at the mercy of what your mother wants.  I face the same situation with my parents.  It is not easy, but you just take it one day at a time when they are in denial that they can't do it alone. Remind yourself, that if you get down either mentally or physically you are of no help to any of them. Try calling 1-800 272 3900 and ask for a care consultant.  They are a service of the Alzheimer’s association .  The services are free, and they can help you with options and suggestions on how to deal with the multiple situations you face. Best wishes for better days.' metadata={'author': 'Unknown', 'source': 'https://alzconnected.org/discussion/58244/im-feeling-angry-guilty-overwhelmed-and-like-im-failing', 'source-tag': 'alzconnect', 'tag': 'Unknown', 'title': \"I'm feeling angry, guilty, overwhelmed, and like I'm failing\"}\n",
      "Relevance Score: 0.6\n",
      "Reasoning: The retrieved document is relevant to the user's question because it provides advice on how to care for parents with Alzheimer's disease, including the importance of having a Power of Attorney (DPOA or POA) and seeking support from the Alzheimer's Association. The document also acknowledges the emotional challenges faced by caregivers, which aligns with the user's sentiment.\n",
      "\n",
      "Document: page_content='=======\n",
      "\n",
      "Welcome ckube. Those are excellent questions. You are in a good place to get answers and support.  It can be incredibly overwhelming. If you have not done so already, I think talking with an attorney that specializes in elder law would be beneficial. An experienced elder law attorney can provide guidance on medicaid eligibility, rules and regs which may be important if you are concerned with the affordability of long term care. Different states have different rules and regs. In my experience, it is definitely not a do it yourself subject. My parents are 85 and 83. Mom is moderate stage Alzheimers. Dad is now displaying some cognitive impairment. His symptoms may be depression related or he may be overwhelmed with my mom's care. A home health agency should be able to provide care in your absence. I recommend interviewing a few and getting that ball moving soon. Others will have more guidance regarding memory care.  Take a deep breath. Blessings to you.\n",
      "\n",
      "=======' metadata={'author': 'Unknown', 'source': 'https://alzconnected.org/discussion/63721/newbie-need-help-advice', 'source-tag': 'alzconnect', 'tag': 'Unknown', 'title': 'Newbie - need help/advice'}\n",
      "Relevance Score: 0.6\n",
      "Reasoning: The retrieved document provides relevant information on caring for parents with Alzheimer's disease, including guidance on seeking legal advice, exploring home health care options, and considering memory care facilities. However, the score is not maximized due to the lack of specific details on managing daily care, medication management, or behavioral strategies.\n",
      "\n"
     ]
    }
   ],
   "source": [
    "from typing import List\n",
    "from checkpoints.retrieval_grading import grade_retrieval\n",
    "from langchain.schema import Document\n",
    "\n",
    "# Grade the retrieval results\n",
    "graded_docs = grade_retrieval(query_text, similarity_search_res, model=\"llama3.2\")\n",
    "\n",
    "# Print graded results\n",
    "# for doc in graded_docs:\n",
    "#     print(f\"Document content: {doc}\")\n",
    "    \n",
    "# Filter out documents with relevance_score lower than 0.5\n",
    "class ReasonedDocument:\n",
    "    \"\"\"\n",
    "    A class to store the document, relevance score, and reasoning.\n",
    "    \"\"\"\n",
    "    \n",
    "    document: Document # Retrieved document from vector store in Document type\n",
    "    relevance_score: float # Relevance score by reasoning model\n",
    "    reasoning: str # Reasons for the relevance score\n",
    "    \n",
    "    def __init__(self, document, relevance_score, reasoning):\n",
    "        self.document = document\n",
    "        self.relevance_score = relevance_score\n",
    "        self.reasoning = reasoning\n",
    "        \n",
    "    def __str__(self):\n",
    "        return f\"Document: {self.document}\\nRelevance Score: {self.relevance_score}\\nReasoning: {self.reasoning}\\n\"\n",
    "\n",
    "# filtered_docs = [doc for doc, grade in zip(similarity_search_res, graded_docs) if grade[\"relevance_score\"] >= 0.5]\n",
    "\n",
    "filtered_docs = []\n",
    "\n",
    "# Filter out documents with relevance_score lower than 0.5 and re-rank relevant documents based on relevance_score descending\n",
    "filtered_docs = []\n",
    "\n",
    "for doc, grade in zip(similarity_search_res, graded_docs):\n",
    "    if grade[\"relevance_score\"] >= 0.5:\n",
    "        reasoned_doc = ReasonedDocument(\n",
    "            document=doc,\n",
    "            relevance_score=grade[\"relevance_score\"],\n",
    "            reasoning=grade[\"reasoning\"]\n",
    "        )\n",
    "        filtered_docs.append(reasoned_doc)\n",
    "\n",
    "# Re-rank the filtered documents based on relevance_score in descending order\n",
    "filtered_docs.sort(key=lambda x: x.relevance_score, reverse=True)\n",
    "\n",
    "# Print filtered results\n",
    "for doc in filtered_docs:\n",
    "    print(doc)\n",
    "    # print(doc.metadata)\n",
    "\n"
   ]
  },
  {
   "cell_type": "markdown",
   "metadata": {},
   "source": [
    "### Generate answer\n",
    "\n",
    "*Using the graded documents to generate an answer.*\n",
    "\n",
    "1. Only use the graded documents to generate an answer.\n",
    "\n",
    "--------------------------------"
   ]
  },
  {
   "cell_type": "code",
   "execution_count": null,
   "metadata": {},
   "outputs": [],
   "source": [
    "from answer_generation import generate_answer\n",
    "\n",
    "context_chunks = [doc.document for doc in filtered_docs]\n",
    "\n",
    "# TODO: handle the case where context_chunks is empty, answer should specify that we don't have relevant information.\n",
    "\n",
    "answer = generate_answer(query_text, context_chunks, model=\"marco-o1\")\n",
    "\n",
    "print(answer)"
   ]
  }
 ],
 "metadata": {
  "kernelspec": {
   "display_name": "Python 3",
   "language": "python",
   "name": "python3"
  },
  "language_info": {
   "codemirror_mode": {
    "name": "ipython",
    "version": 3
   },
   "file_extension": ".py",
   "mimetype": "text/x-python",
   "name": "python",
   "nbconvert_exporter": "python",
   "pygments_lexer": "ipython3",
   "version": "3.11.11"
  }
 },
 "nbformat": 4,
 "nbformat_minor": 2
}
