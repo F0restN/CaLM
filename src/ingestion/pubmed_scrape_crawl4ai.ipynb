{
 "cells": [
  {
   "cell_type": "code",
   "execution_count": 2,
   "metadata": {},
   "outputs": [
    {
     "name": "stderr",
     "output_type": "stream",
     "text": [
      "/var/folders/_l/b0gq7jr123bdg2xl0t5zgn3c0000gn/T/ipykernel_73992/3306815953.py:5: UserWarning: Could not infer format, so each element will be parsed individually, falling back to `dateutil`. To ensure parsing is consistent and as-expected, please specify a format.\n",
      "  pubmed_search_result = pd.read_csv(\n"
     ]
    },
    {
     "data": {
      "text/html": [
       "<div>\n",
       "<style scoped>\n",
       "    .dataframe tbody tr th:only-of-type {\n",
       "        vertical-align: middle;\n",
       "    }\n",
       "\n",
       "    .dataframe tbody tr th {\n",
       "        vertical-align: top;\n",
       "    }\n",
       "\n",
       "    .dataframe thead th {\n",
       "        text-align: right;\n",
       "    }\n",
       "</style>\n",
       "<table border=\"1\" class=\"dataframe\">\n",
       "  <thead>\n",
       "    <tr style=\"text-align: right;\">\n",
       "      <th></th>\n",
       "      <th>Title</th>\n",
       "      <th>PMID</th>\n",
       "      <th>DOI</th>\n",
       "      <th>Authors</th>\n",
       "      <th>Published Date</th>\n",
       "      <th>URL</th>\n",
       "      <th>PDF URL</th>\n",
       "    </tr>\n",
       "  </thead>\n",
       "  <tbody>\n",
       "    <tr>\n",
       "      <th>0</th>\n",
       "      <td>Artificial intelligence and open science in di...</td>\n",
       "      <td>PMC10897520</td>\n",
       "      <td>10.1016/j.xcrm.2023.101379</td>\n",
       "      <td>Feixiong Cheng, Fei Wang, Jian Tang, Yadi Zhou...</td>\n",
       "      <td>2024 Feb 20/01/01</td>\n",
       "      <td>https://pmc.ncbi.nlm.nih.gov/articles/PMC10897520</td>\n",
       "      <td>https://pmc.ncbi.nlm.nih.gov/articles/PMC10897...</td>\n",
       "    </tr>\n",
       "    <tr>\n",
       "      <th>1</th>\n",
       "      <td>Dementia Ideal Care: Ecosystem Map of Best Pra...</td>\n",
       "      <td>PMC11307099</td>\n",
       "      <td>10.3233/JAD-231491</td>\n",
       "      <td>Wen Dombrowski, Adrienne Mims, Ian Kremer, Ped...</td>\n",
       "      <td>2024 Jun 25/01/01</td>\n",
       "      <td>https://pmc.ncbi.nlm.nih.gov/articles/PMC11307099</td>\n",
       "      <td>https://pmc.ncbi.nlm.nih.gov/articles/PMC11307...</td>\n",
       "    </tr>\n",
       "    <tr>\n",
       "      <th>2</th>\n",
       "      <td>Brain aging patterns in a large and diverse co...</td>\n",
       "      <td>PMC11483219</td>\n",
       "      <td>10.1038/s41591-024-03144-x</td>\n",
       "      <td>Zhijian Yang, Junhao Wen, Guray Erus, Sindhuja...</td>\n",
       "      <td>2024 Aug 15/01/01</td>\n",
       "      <td>https://pmc.ncbi.nlm.nih.gov/articles/PMC11483219</td>\n",
       "      <td>https://pmc.ncbi.nlm.nih.gov/articles/PMC11483...</td>\n",
       "    </tr>\n",
       "    <tr>\n",
       "      <th>3</th>\n",
       "      <td>Gene-SGAN: discovering disease subtypes with i...</td>\n",
       "      <td>PMC10774282</td>\n",
       "      <td>10.1038/s41467-023-44271-2</td>\n",
       "      <td>Zhijian Yang, Junhao Wen, Ahmed Abdulkadir, Yu...</td>\n",
       "      <td>2024 Jan 8/01/01</td>\n",
       "      <td>https://pmc.ncbi.nlm.nih.gov/articles/PMC10774282</td>\n",
       "      <td>https://pmc.ncbi.nlm.nih.gov/articles/PMC10774...</td>\n",
       "    </tr>\n",
       "    <tr>\n",
       "      <th>4</th>\n",
       "      <td>10th European Stroke Organisation Conference A...</td>\n",
       "      <td>PMC11157553</td>\n",
       "      <td>10.1177/23969873241245672</td>\n",
       "      <td>NaN</td>\n",
       "      <td>2024 May 15/01/01</td>\n",
       "      <td>https://pmc.ncbi.nlm.nih.gov/articles/PMC11157553</td>\n",
       "      <td>https://pmc.ncbi.nlm.nih.gov/articles/PMC11157...</td>\n",
       "    </tr>\n",
       "  </tbody>\n",
       "</table>\n",
       "</div>"
      ],
      "text/plain": [
       "                                               Title         PMID  \\\n",
       "0  Artificial intelligence and open science in di...  PMC10897520   \n",
       "1  Dementia Ideal Care: Ecosystem Map of Best Pra...  PMC11307099   \n",
       "2  Brain aging patterns in a large and diverse co...  PMC11483219   \n",
       "3  Gene-SGAN: discovering disease subtypes with i...  PMC10774282   \n",
       "4  10th European Stroke Organisation Conference A...  PMC11157553   \n",
       "\n",
       "                          DOI  \\\n",
       "0  10.1016/j.xcrm.2023.101379   \n",
       "1          10.3233/JAD-231491   \n",
       "2  10.1038/s41591-024-03144-x   \n",
       "3  10.1038/s41467-023-44271-2   \n",
       "4   10.1177/23969873241245672   \n",
       "\n",
       "                                             Authors     Published Date  \\\n",
       "0  Feixiong Cheng, Fei Wang, Jian Tang, Yadi Zhou...  2024 Feb 20/01/01   \n",
       "1  Wen Dombrowski, Adrienne Mims, Ian Kremer, Ped...  2024 Jun 25/01/01   \n",
       "2  Zhijian Yang, Junhao Wen, Guray Erus, Sindhuja...  2024 Aug 15/01/01   \n",
       "3  Zhijian Yang, Junhao Wen, Ahmed Abdulkadir, Yu...   2024 Jan 8/01/01   \n",
       "4                                                NaN  2024 May 15/01/01   \n",
       "\n",
       "                                                 URL  \\\n",
       "0  https://pmc.ncbi.nlm.nih.gov/articles/PMC10897520   \n",
       "1  https://pmc.ncbi.nlm.nih.gov/articles/PMC11307099   \n",
       "2  https://pmc.ncbi.nlm.nih.gov/articles/PMC11483219   \n",
       "3  https://pmc.ncbi.nlm.nih.gov/articles/PMC10774282   \n",
       "4  https://pmc.ncbi.nlm.nih.gov/articles/PMC11157553   \n",
       "\n",
       "                                             PDF URL  \n",
       "0  https://pmc.ncbi.nlm.nih.gov/articles/PMC10897...  \n",
       "1  https://pmc.ncbi.nlm.nih.gov/articles/PMC11307...  \n",
       "2  https://pmc.ncbi.nlm.nih.gov/articles/PMC11483...  \n",
       "3  https://pmc.ncbi.nlm.nih.gov/articles/PMC10774...  \n",
       "4  https://pmc.ncbi.nlm.nih.gov/articles/PMC11157...  "
      ]
     },
     "execution_count": 2,
     "metadata": {},
     "output_type": "execute_result"
    }
   ],
   "source": [
    "import pandas as pd\n",
    "\n",
    "from utils.logger import logger\n",
    "\n",
    "pubmed_search_result = pd.read_csv(\n",
    "    \"../../data/raw_content/pubmed_search_summary_2025_01_03_05_00_54.csv\", \n",
    "    parse_dates=['Published Date']\n",
    ")\n",
    "\n",
    "# pubmed_search_result.describe()\n",
    "\n",
    "# pubmed_search_result.info()\n",
    "\n",
    "# pubmed_search_result.head()\n",
    "\n",
    "pubmed_search_result[0:5]\n",
    "\n",
    "# pubmed_search_result.\n",
    "\n",
    "# pubmed_search_result[['PDF URL']]\n",
    "\n",
    "# logger.info(pubmed_search_result)\n"
   ]
  },
  {
   "cell_type": "markdown",
   "metadata": {},
   "source": [
    "First we read the data from the csv file and we will use first 10 rows for testing.\n",
    "\n",
    "Now we will use crawler4ai to scrape the data from the pubmed website. \n",
    "\n",
    "According to `URL` column. "
   ]
  },
  {
   "cell_type": "code",
   "execution_count": 8,
   "metadata": {},
   "outputs": [
    {
     "name": "stdout",
     "output_type": "stream",
     "text": [
      "Loaded layout model datalab-to/surya_layout on device mps with dtype torch.float16\n",
      "Loaded texify model to mps with torch.float16 dtype\n",
      "Loaded recognition model vikp/surya_rec2 on device mps with dtype torch.float16\n",
      "Loaded table recognition model vikp/surya_tablerec on device mps with dtype torch.float16\n",
      "Loaded detection model vikp/surya_det3 on device mps with dtype torch.float16\n"
     ]
    },
    {
     "name": "stderr",
     "output_type": "stream",
     "text": [
      "Recognizing layout: 100%|██████████| 3/3 [00:06<00:00,  2.15s/it]\n",
      "100%|██████████| 3/3 [00:00<00:00, 22.49it/s]\n",
      "Detecting bboxes: 0it [00:00, ?it/s]\n",
      "Recognizing equations: 0it [00:00, ?it/s]\n",
      "Recognizing tables: 0it [00:00, ?it/s]\n"
     ]
    },
    {
     "name": "stdout",
     "output_type": "stream",
     "text": [
      "\u001B[32m2025-01-15 @ 15:05:30\u001B[0m | \u001B[1mINFO    \u001B[0m | \u001B[36m__main__\u001B[0m:\u001B[36m<module>\u001B[0m:\u001B[36m72\u001B[0m - \u001B[1mSuccessfully saved markdown and images for PMC10897520\u001B[0m\n"
     ]
    },
    {
     "name": "stderr",
     "output_type": "stream",
     "text": [
      "Recognizing layout: 100%|██████████| 6/6 [00:08<00:00,  1.40s/it]\n",
      "100%|██████████| 6/6 [00:00<00:00, 39.06it/s]\n",
      "Detecting bboxes: 0it [00:00, ?it/s]\n",
      "Recognizing equations: 0it [00:00, ?it/s]\n",
      "Recognizing tables: 0it [00:00, ?it/s]\n"
     ]
    },
    {
     "name": "stdout",
     "output_type": "stream",
     "text": [
      "\u001B[32m2025-01-15 @ 15:05:43\u001B[0m | \u001B[1mINFO    \u001B[0m | \u001B[36m__main__\u001B[0m:\u001B[36m<module>\u001B[0m:\u001B[36m72\u001B[0m - \u001B[1mSuccessfully saved markdown and images for PMC11307099\u001B[0m\n"
     ]
    },
    {
     "name": "stderr",
     "output_type": "stream",
     "text": [
      "Recognizing layout: 100%|██████████| 7/7 [00:09<00:00,  1.34s/it]\n",
      "100%|██████████| 7/7 [00:00<00:00, 38.45it/s]\n",
      "Detecting bboxes: 0it [00:00, ?it/s]\n",
      "Recognizing equations: 100%|██████████| 1/1 [00:04<00:00,  4.98s/it]\n",
      "Recognizing tables: 100%|██████████| 1/1 [00:01<00:00,  1.24s/it]\n"
     ]
    },
    {
     "name": "stdout",
     "output_type": "stream",
     "text": [
      "\u001B[32m2025-01-15 @ 15:06:02\u001B[0m | \u001B[1mINFO    \u001B[0m | \u001B[36m__main__\u001B[0m:\u001B[36m<module>\u001B[0m:\u001B[36m72\u001B[0m - \u001B[1mSuccessfully saved markdown and images for PMC11483219\u001B[0m\n"
     ]
    },
    {
     "name": "stderr",
     "output_type": "stream",
     "text": [
      "Downloading PDFs: 3it [00:41, 13.76s/it]\n"
     ]
    }
   ],
   "source": [
    "# Download the PDF files from the pubmed website.\n",
    "import os\n",
    "from tqdm import tqdm\n",
    "from utils.pdf_downloader import download_pdf\n",
    "from marker.converters.pdf import PdfConverter\n",
    "from marker.models import create_model_dict\n",
    "from marker.output import text_from_rendered\n",
    "from marker.settings import settings\n",
    "\n",
    "from langchain_core.documents import Document\n",
    "\n",
    "pdf_dir = \"../../data/raw_content/pdfs\"\n",
    "markdown_dir = \"../../data/raw_content/markdown\"\n",
    "image_dir = \"../../data/raw_content/images\"\n",
    "\n",
    "converter = PdfConverter(\n",
    "    artifact_dict=create_model_dict()\n",
    ")\n",
    "\n",
    "for idx, row in tqdm(pubmed_search_result[0:3].iterrows(), desc=\"Downloading PDFs\"):\n",
    "    \"\"\"\n",
    "    Download the PDF file if it does not exist.\n",
    "    Convert the PDF to markdown and images.\n",
    "    Save the markdown and images to the corresponding directories.\n",
    "    \"\"\"\n",
    "    \n",
    "    pmid = row['PMID']\n",
    "    \n",
    "    pdf_filename = f\"{pmid}.pdf\"\n",
    "    pdf_path = os.path.join(pdf_dir, pdf_filename)\n",
    "    \n",
    "    markdown_filename = f\"{pmid}.md\"\n",
    "    markdown_path = os.path.join(markdown_dir, markdown_filename)\n",
    "    \n",
    "    # Download the PDF file if it does not exist\n",
    "    if not os.path.exists(pdf_path):\n",
    "        logger.info(f\"Downloading PDF file: {pdf_filename}\")\n",
    "        download_pdf(row['PDF URL'], pdf_path)\n",
    "\n",
    "    # Convert the PDF to markdown and images\n",
    "    rendered = converter(filepath=pdf_path)\n",
    "    text, _, images = text_from_rendered(rendered)\n",
    "\n",
    "    # Save the markdown and images\n",
    "    try:\n",
    "        text = text.encode(settings.OUTPUT_ENCODING, errors='replace').decode(settings.OUTPUT_ENCODING)\n",
    "        with open(markdown_path, 'w', encoding='utf-8') as f:\n",
    "            doc = Document(\n",
    "                page_content=text,\n",
    "                metadata={\n",
    "                    \"source\": row['PDF URL'],\n",
    "                    \"pmid\": pmid,\n",
    "                    \"title\": row['Title'],\n",
    "                    \"authors\": row['Authors'],\n",
    "                    \"published_date\": row['Published Date'],\n",
    "                    \"source-tag\": \"pubmed\"\n",
    "                }\n",
    "            )\n",
    "            \n",
    "            # f.write(doc.model_dump_json())\n",
    "            \n",
    "        with open(markdown_path, \"w+\", encoding=settings.OUTPUT_ENCODING) as f:\n",
    "            f.write(text)\n",
    "                \n",
    "        for img_name, img in images.items():\n",
    "            img.save(os.path.join(image_dir, f\"{pmid}_{img_name}\"), settings.OUTPUT_IMAGE_FORMAT)\n",
    "            \n",
    "        # with open(os.path.join('../../logs/', f\"{pmid}_meta.json\"), \"w+\", encoding=settings.OUTPUT_ENCODING) as f:\n",
    "        #     f.write(json.dumps(rendered.metadata, indent=2))\n",
    "                \n",
    "        logger.info(f'Successfully saved markdown and images for {pmid}')\n",
    "    except Exception as e:\n",
    "        logger.error(f'Failed to save markdown and images for {pmid}: {e}')\n"
   ]
  }
 ],
 "metadata": {
  "kernelspec": {
   "display_name": "Python 3",
   "language": "python",
   "name": "python3"
  },
  "language_info": {
   "codemirror_mode": {
    "name": "ipython",
    "version": 3
   },
   "file_extension": ".py",
   "mimetype": "text/x-python",
   "name": "python",
   "nbconvert_exporter": "python",
   "pygments_lexer": "ipython3",
   "version": "3.11.11"
  }
 },
 "nbformat": 4,
 "nbformat_minor": 2
}
