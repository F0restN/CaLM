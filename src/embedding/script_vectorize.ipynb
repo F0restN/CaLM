{
 "cells": [
  {
   "cell_type": "code",
   "execution_count": 1,
   "metadata": {},
   "outputs": [],
   "source": [
    "import sys\n",
    "sys.path.append('../../')\n"
   ]
  },
  {
   "cell_type": "markdown",
   "metadata": {},
   "source": [
    "Import embedding models"
   ]
  },
  {
   "cell_type": "code",
   "execution_count": 2,
   "metadata": {},
   "outputs": [
    {
     "name": "stdout",
     "output_type": "stream",
     "text": [
      "\u001b[32m2025-01-07 @ 20:06:51\u001b[0m | \u001b[1mINFO    \u001b[0m | \u001b[36mutils.logger\u001b[0m:\u001b[36m<module>\u001b[0m:\u001b[36m56\u001b[0m - \u001b[1mLogger initialized successfully\u001b[0m\n",
      "\u001b[32m2025-01-07 @ 20:07:12\u001b[0m | \u001b[1mINFO    \u001b[0m | \u001b[36msrc.utils.logger\u001b[0m:\u001b[36m<module>\u001b[0m:\u001b[36m56\u001b[0m - \u001b[1mLogger initialized successfully\u001b[0m\n",
      "\u001b[32m2025-01-07 @ 20:07:12\u001b[0m | \u001b[1mINFO    \u001b[0m | \u001b[36msrc.embedding.embedding_models\u001b[0m:\u001b[36mget_bge_embedding\u001b[0m:\u001b[36m28\u001b[0m - \u001b[1mUsing device: mps\u001b[0m\n",
      "\u001b[32m2025-01-07 @ 20:07:12\u001b[0m | \u001b[1mINFO    \u001b[0m | \u001b[36msrc.embedding.embedding_models\u001b[0m:\u001b[36mget_bge_embedding\u001b[0m:\u001b[36m29\u001b[0m - \u001b[1mLoading BGE embedding model: BAAI/bge-m3\u001b[0m\n",
      "\u001b[32m2025-01-07 @ 20:07:19\u001b[0m | \u001b[1mINFO    \u001b[0m | \u001b[36msrc.embedding.embedding_models\u001b[0m:\u001b[36mget_bge_embedding\u001b[0m:\u001b[36m41\u001b[0m - \u001b[1mSuccessfully loaded BGE embedding model\u001b[0m\n"
     ]
    }
   ],
   "source": [
    "from src.embedding.embedding_models import EmbeddingModels\n",
    "from src.utils.logger import logger\n",
    "\n",
    "bgeEmbedding = EmbeddingModels().get_bge_embedding()"
   ]
  },
  {
   "cell_type": "markdown",
   "metadata": {},
   "source": [
    "### Load Aging care forum and Alzconnect forum data\n",
    "\n",
    "*Since, we need to process the Aging Care forum data first before chunking*\n",
    "\n",
    "---"
   ]
  },
  {
   "cell_type": "code",
   "execution_count": 3,
   "metadata": {},
   "outputs": [
    {
     "name": "stdout",
     "output_type": "stream",
     "text": [
      "                                               title  \\\n",
      "0           Should Someone With Dementia Be Driving?   \n",
      "1           Should Someone With Dementia Be Driving?   \n",
      "2           Should Someone With Dementia Be Driving?   \n",
      "3  Early Diagnosis of Alzheimer’s Is Crucial for ...   \n",
      "4  Early Diagnosis of Alzheimer’s Is Crucial for ...   \n",
      "\n",
      "                                            question  \\\n",
      "0    When Should Someone With Dementia Stop Driving?   \n",
      "1  Why is letting a senior with dementia drive da...   \n",
      "2   How to Stop a Person With Dementia from Driving?   \n",
      "3  How is caring for someone with Alzheimer’s dis...   \n",
      "4  What does the Alzheimer's treatment journey lo...   \n",
      "\n",
      "                                              answer  \\\n",
      "0  Driving is one of the most difficult issues th...   \n",
      "1  Wandering or “elopement” is a common behavior ...   \n",
      "2  Car keys are a symbol of independence for Amer...   \n",
      "3  AD poses real challenges not only for the peop...   \n",
      "4  While there are no treatments available that c...   \n",
      "\n",
      "                                                tags  \n",
      "0                \"Alzheimer's & Dementia\", 'Driving'  \n",
      "1                \"Alzheimer's & Dementia\", 'Driving'  \n",
      "2                \"Alzheimer's & Dementia\", 'Driving'  \n",
      "3  \"Alzheimer's & Dementia\", 'Diagnostic Criteria...  \n",
      "4  \"Alzheimer's & Dementia\", 'Diagnostic Criteria...  \n"
     ]
    }
   ],
   "source": [
    "import pandas as pd\n",
    "\n",
    "# Aging care forum data\n",
    "agingcare_df = pd.read_json(\n",
    "    \"../../data/raw_content/knowledge/aging-care-forum.json\", orient=\"records\"\n",
    ")\n",
    "\n",
    "agingcare_df[\"question\"] = agingcare_df[\"question\"].astype(str)\n",
    "agingcare_df[\"answer\"] = agingcare_df[\"answer\"].astype(str)\n",
    "agingcare_df[\"tags\"] = agingcare_df[\"tags\"].astype(str).str.strip('[]')\n",
    "\n",
    "# remove duplicate entries\n",
    "agingcare_df.drop_duplicates(\n",
    "    subset=[\"answer\", \"question\"], \n",
    "    keep=\"first\", \n",
    "    inplace=True\n",
    ")\n",
    "\n",
    "print(agingcare_df[['title','question','answer', 'tags']].head())\n",
    "\n",
    "# Alzconnect forum data\n",
    "alzconnect_df = pd.read_parquet(\n",
    "    \"../../data/raw_content/knowledge/alz-connect-forum.parquet\"\n",
    ")\n",
    "\n",
    "# print(alzconnect_df.info())\n",
    "\n"
   ]
  },
  {
   "cell_type": "markdown",
   "metadata": {},
   "source": [
    "### Recursively split the documents into chunks\n",
    "\n",
    "---"
   ]
  },
  {
   "cell_type": "code",
   "execution_count": 4,
   "metadata": {},
   "outputs": [
    {
     "name": "stdout",
     "output_type": "stream",
     "text": [
      "\u001b[32m2025-01-07 @ 20:07:19\u001b[0m | \u001b[1mINFO    \u001b[0m | \u001b[36m__main__\u001b[0m:\u001b[36m<module>\u001b[0m:\u001b[36m20\u001b[0m - \u001b[1mChunking Aging Care forum data\u001b[0m\n",
      "\u001b[32m2025-01-07 @ 20:07:19\u001b[0m | \u001b[1mINFO    \u001b[0m | \u001b[36m__main__\u001b[0m:\u001b[36m<module>\u001b[0m:\u001b[36m36\u001b[0m - \u001b[1mChunking Alzconnect forum data\u001b[0m\n",
      "5014\n"
     ]
    }
   ],
   "source": [
    "import json\n",
    "from langchain.text_splitter import (\n",
    "    # CharacterTextSplitter,\n",
    "    # MarkdownHeaderTextSplitter,\n",
    "    # MarkdownTextSplitter,\n",
    "    RecursiveCharacterTextSplitter,\n",
    ")\n",
    "from langchain_community.vectorstores import Chroma\n",
    "from langchain_core.documents import Document\n",
    "\n",
    "\n",
    "text_splitter = RecursiveCharacterTextSplitter(\n",
    "    chunk_size=1000, \n",
    "    chunk_overlap=200\n",
    ")\n",
    "\n",
    "agingcare_document_chunks = []\n",
    "alzconnect_document_chunks = []\n",
    "\n",
    "logger.info(\"Chunking Aging Care forum data\")\n",
    "for doc in agingcare_df.itertuples():\n",
    "    for chunk in text_splitter.split_text(\" \".join([doc.question,doc.answer])):\n",
    "        agingcare_document_chunks.append(\n",
    "            Document(\n",
    "                page_content=chunk,\n",
    "                metadata={\n",
    "                    \"source\": doc.url,\n",
    "                    \"title\": doc.title,\n",
    "                    \"author\": getattr(doc, \"author\", \"Unknown\"),\n",
    "                    \"tag\": getattr(doc, \"tags\", \"Unknown\"),\n",
    "                    \"source-tag\": \"agingcare\",\n",
    "                },\n",
    "            )\n",
    "        )\n",
    "        \n",
    "logger.info(\"Chunking Alzconnect forum data\")\n",
    "for doc in alzconnect_df.itertuples():\n",
    "    for chunk in text_splitter.split_text(\" \".join([doc.title,doc.text])):\n",
    "        alzconnect_document_chunks.append(\n",
    "            Document(\n",
    "                page_content=chunk,\n",
    "                metadata={\n",
    "                    \"source\": doc.source,\n",
    "                    \"title\": doc.title,\n",
    "                    \"author\": getattr(doc, \"author\", \"Unknown\"),\n",
    "                    \"tag\": getattr(doc, \"tags\", \"Unknown\"),\n",
    "                    \"source-tag\": \"alzconnect\",\n",
    "                },\n",
    "            )\n",
    "        )\n",
    "\n",
    "# Merge all chunks \n",
    "peer_support_document_chunks = []\n",
    "for group in [agingcare_document_chunks, alzconnect_document_chunks]:\n",
    "    peer_support_document_chunks.extend(group)\n",
    "\n",
    "type(peer_support_document_chunks)\n",
    "\n",
    "print(len(agingcare_document_chunks))"
   ]
  },
  {
   "cell_type": "markdown",
   "metadata": {},
   "source": []
  },
  {
   "cell_type": "code",
   "execution_count": 10,
   "metadata": {},
   "outputs": [
    {
     "name": "stdout",
     "output_type": "stream",
     "text": [
      "\u001b[32m2025-01-07 @ 20:39:03\u001b[0m | \u001b[1mINFO    \u001b[0m | \u001b[36m__main__\u001b[0m:\u001b[36m<module>\u001b[0m:\u001b[36m21\u001b[0m - \u001b[1mVector store built successfully at ../../data/vector_database/peer_kb\u001b[0m\n"
     ]
    }
   ],
   "source": [
    "# Create a Chroma vector store\n",
    "# TODO Import function from vector_store.py that builds a Chroma vector store\n",
    "\n",
    "import os\n",
    "import shutil\n",
    "from src.embedding.vector_store import VectorStore\n",
    "\n",
    "vectorstore_path = \"../../data/vector_database/peer_kb\"\n",
    "force_rebuild = True\n",
    "\n",
    "if os.path.isdir(vectorstore_path) and force_rebuild:\n",
    "    shutil.rmtree(vectorstore_path)\n",
    "    logger.info(f\"Vector store {vectorstore_path} already exists and force_rebuild is True. Rebuilding...\")\n",
    "    \n",
    "try:\n",
    "    vectorstore = Chroma.from_documents(\n",
    "        documents=peer_support_document_chunks,\n",
    "        embedding=bgeEmbedding,\n",
    "        persist_directory=vectorstore_path,\n",
    "    )\n",
    "    logger.info(f\"Vector store built successfully at {vectorstore_path}\")\n",
    "    # return vectorstore\n",
    "except Exception as e:\n",
    "    logger.error(f\"Failed to build vector store: {str(e)}\")\n",
    "    raise\n",
    "\n",
    "\n",
    "# peer_support_kb =VectorStore().build_chroma_vectorstore(\n",
    "#     docs=agingcare_document_chunks,\n",
    "#     embedding_model=bgeEmbedding,\n",
    "#     collection_name=\"peer_support_knowledgebase\",\n",
    "#     vectorstore_path=\"../../data/vector_database/peer_kb\",\n",
    "#     force_rebuild=True\n",
    "# )"
   ]
  }
 ],
 "metadata": {
  "kernelspec": {
   "display_name": "Python 3",
   "language": "python",
   "name": "python3"
  },
  "language_info": {
   "codemirror_mode": {
    "name": "ipython",
    "version": 3
   },
   "file_extension": ".py",
   "mimetype": "text/x-python",
   "name": "python",
   "nbconvert_exporter": "python",
   "pygments_lexer": "ipython3",
   "version": "3.11.8"
  }
 },
 "nbformat": 4,
 "nbformat_minor": 2
}
