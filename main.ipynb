{
 "cells": [
  {
   "cell_type": "code",
   "execution_count": 2,
   "metadata": {},
   "outputs": [],
   "source": [
    "import os, getpass\n",
    "\n",
    "\n",
    "# Get environment variables if not set\n",
    "def _set_env(var: str):\n",
    "        if not os.environ.get(var):\n",
    "            os.environ[var] = getpass.getpass(f'Enter your {var} API key: ')\n",
    "\n",
    "# Check necessary environment variables\n",
    "_set_env('TAVILY_API_KEY')\n",
    "_set_env('LANGCHAIN_API_KEY')\n",
    "\n",
    "os.environ['TOKENIZERS_PARALLELISM'] = 'true'\n",
    "os.environ['LANGCHAIN_TRACING_V2'] = 'true'\n",
    "os.environ['LANGCHAIN_PROJECT'] = 'langchain-rag-ollama'\n",
    "\n",
    "### Search\n",
    "\n",
    "# from langchain_community.tools.tavily_search import TavilySearchRun"
   ]
  },
  {
   "cell_type": "code",
   "execution_count": 3,
   "metadata": {},
   "outputs": [],
   "source": [
    "## Load the model\n",
    "\n",
    "from langchain_ollama import ChatOllama\n",
    "\n",
    "local_llm = 'llama3.2'\n",
    "llm = ChatOllama(model=local_llm, temperature=0.0)\n",
    "llm_json_mode = ChatOllama(model=local_llm, temperature=0.0, format='json')"
   ]
  },
  {
   "cell_type": "code",
   "execution_count": 6,
   "metadata": {},
   "outputs": [
    {
     "name": "stderr",
     "output_type": "stream",
     "text": [
      "INFO | 2025-01-07T17:38:45Z | Hello, world!\n"
     ]
    }
   ],
   "source": [
    "## Logger testing\n",
    "\n",
    "import logging\n",
    "\n",
    "logging.basicConfig(\n",
    "    level=logging.INFO,     \n",
    "    format=\"%(levelname)s | %(asctime)s | %(message)s\",\n",
    "    datefmt=\"%Y-%m-%dT%H:%M:%SZ\"\n",
    ")\n",
    "\n",
    "logger = logging.getLogger(__name__)\n",
    "\n",
    "logger.info(\"Hello, world!\")"
   ]
  },
  {
   "cell_type": "markdown",
   "metadata": {},
   "source": [
    "### Vector store and embedding model\n",
    "*Using basic query to test the vectorstore and embedding model.*\n",
    "\n",
    "---------------------------"
   ]
  },
  {
   "cell_type": "code",
   "execution_count": 11,
   "metadata": {},
   "outputs": [
    {
     "name": "stdout",
     "output_type": "stream",
     "text": [
      "\u001b[32m2025-01-07 @ 17:43:32\u001b[0m | \u001b[1mINFO    \u001b[0m | \u001b[36msrc.embedding.embedding_models\u001b[0m:\u001b[36mget_bge_embedding\u001b[0m:\u001b[36m28\u001b[0m - \u001b[1mUsing device: mps\u001b[0m\n",
      "\u001b[32m2025-01-07 @ 17:43:32\u001b[0m | \u001b[1mINFO    \u001b[0m | \u001b[36msrc.embedding.embedding_models\u001b[0m:\u001b[36mget_bge_embedding\u001b[0m:\u001b[36m29\u001b[0m - \u001b[1mLoading BGE embedding model: BAAI/bge-base-en\u001b[0m\n"
     ]
    },
    {
     "name": "stderr",
     "output_type": "stream",
     "text": [
      "INFO | 2025-01-07T17:43:32Z | Load pretrained SentenceTransformer: BAAI/bge-base-en\n"
     ]
    },
    {
     "name": "stdout",
     "output_type": "stream",
     "text": [
      "\u001b[32m2025-01-07 @ 17:43:33\u001b[0m | \u001b[1mINFO    \u001b[0m | \u001b[36msrc.embedding.embedding_models\u001b[0m:\u001b[36mget_bge_embedding\u001b[0m:\u001b[36m41\u001b[0m - \u001b[1mSuccessfully loaded BGE embedding model\u001b[0m\n"
     ]
    },
    {
     "name": "stderr",
     "output_type": "stream",
     "text": [
      "INFO | 2025-01-07T17:43:33Z | Anonymized telemetry enabled. See                     https://docs.trychroma.com/telemetry for more information.\n"
     ]
    },
    {
     "name": "stdout",
     "output_type": "stream",
     "text": [
      "\u001b[32m2025-01-07 @ 17:43:34\u001b[0m | \u001b[33m\u001b[1mWARNING \u001b[0m | \u001b[36msrc.embedding.vector_store\u001b[0m:\u001b[36mretrieve_docs\u001b[0m:\u001b[36m95\u001b[0m - \u001b[33m\u001b[1mRetrieved 5 documents\u001b[0m\n",
      "Seeking guidance for helping my parents Helpo. So my dad is my mother's (has Alzheimers) primary care giver and has not been taking the best care of her.  I know he's exhausted and depressed and is in very bad health.  He recently had a fall and broke his ankle and is in rehab.  One of my younger brothers is looking after my mom briefly when he's not at work but shes in the house by herself for most of the day (even before the injury).  My mother needs to be in an assisted living facility but I don't think they have the money given how much they get from social security and medicare.  They had equity in their house but I think my father has already pulled it out and spent it.  He's very shady about his finances and it's almost impossible to get him to be honest about his entire situation so we can figure out a short term and long term plan for them.  With this recent injury I drove up from where I live (2 hours away) to clean the house and fix up things and the house is an absolute mess.  My father is urinating in trash cans and their was rat feces and trash everywhere.  The stove still has the knobs on it where my mother could potentially burn the house down.  I'm really at my\n",
      "{'source': 'https://alzconnected.org/discussion/59820/seeking-guidance-for-helping-my-parents', 'source-tag': 'alzforum', 'title': 'Seeking guidance for helping my parents'}\n",
      "Just getting started(1) Thank you for this opportunity.  My LO, (Dad) age 80, was just diagnosed with mild ALZ cognitive disorder.  I'd like to help Mom out as much as possible but I don't know how.  I've asked if all legal matters have been taken cared of (POA's, trusts, etc) and she says yes.   One of the problems is that neither one of us know how to tell him that he is repeating, or remind him when we are out of the house.  There are sticky notes EVERYWHERE!  But he forgets.  He is able to drive and so far, I don't believe he has forgotten where he is headed.   He is extremely proud, brilliant (so he \"gets it\") and unwilling to pass things over to Mom.  And at the same time, she is very protective of his mental well being.  They are both very private.   At what point does Mom take over taxes (some paperwork was lost), all the bills, his MEDS!  That one is a big one!  He will allow her to watch him fill up the daily containers, but if he doesn't take it, he throws it out!  He's a smart one! Last part, they are about to travel home.  With confusion and anxiety, this will not be easy for Mom, just as heading down south was awful for Mom.  He knows he 's coming home but it's all\n",
      "{'source': 'https://alzconnected.org/discussion/56482/just-getting-started-1', 'source-tag': 'alzforum', 'title': 'Just getting started(1)'}\n",
      "In need of ideas My mom 90 came to live with me five months ago, prior to that she lived with dad 87.  Dad helped out at least one to two days every other week for the first couple of months.   I stopped asking for his help when he would call after a few hours to pick her up, because he couldn’t deal with her outbursts (Alz hadn’t been diagnosed, we all thought her passive aggressive behavior was getting worse). Can’t deny I felt he abandon her when she needed him most. my small social circle pretty much dropped off once she moved in.  My biggest challenge, how do I keep her out of the kitchen?Rips open dry food box etc because that’s what she wants prepared for lunch/dinner. I child proof fridge. The cabinet locks eventually get broken as she pulls and pulls until they snap. I’m noticing I’m constantly on edge. I / We can’t afford assistance or assisted living. Any ideas? \n",
      "\n",
      "=======\n",
      "\n",
      "Have you considered applying for Medicaid for your mom?  If her finances are low/non-existent, she may qualify and you could find her a care facility that takes Medicaid residents.Good luck to you.  Please remember to try to find time to take care of yourself, too!\n",
      "\n",
      "=======\n",
      "{'source': 'https://alzconnected.org/discussion/56396/in-need-of-ideas', 'source-tag': 'alzforum', 'title': 'In need of ideas'}\n",
      "New here - a few questions Hello All! I am new to the forum.  I have been caring for my parents (one advanced ALZ, one beginning ALZ) for 7 months.  Here a few issues that I would love feedback on: 1.  My Dad (advanced) tends to insist that things are wet when they are dry.  I have looked in my reference books and assume this is a sensory issue.  In the middle of the night he will insist his shirt is wet but it's not.   Has anyone experienced this and did you have any good diversion tactics or thing to say to redirect? 2.  Addition to our house:  my parents came to us in an emergency situation (my dad fell walking around neighborhood with no supervision- we had to get them our of their condo which my Mom had been fighting) - I have no first floor shower but they are in a first floor bedroom.  The family agreed to my parents financing an addition after a 3 month trial of me keeping them.  Plans have been drawn up to give my parents a larger bedroom to accommodate a hospital bed, an accessible bathroom, closet and a small private sitting room from rest of the house.  Now they have changed their mind due to cost and Dad's decline even though Mom will follow same path of the disease\n",
      "{'source': 'https://alzconnected.org/discussion/64119/new-here-a-few-questions', 'source-tag': 'alzforum', 'title': 'New here - a few questions'}\n",
      "I’m new too and overwhelmed for now Both my parents have dementia and I quit work to live with them 8 years ago.  I am divorced with no children and an only child who moved from my town to theirs.  My mom was hospitalized a month ago and when she came home she brought Covid.  We are all vaccinated and recovered well.  My mom started physical therapy this week and caught a stomach virus that she gave to my dad.  This weekend both my parents are incontinent, my dad couldn’t remember how to shave, and my mom will not stop saying to my dad I love you, I love you, I love you, I love you.  I’m not sure what I’m asking for here.  I guess I need a plan, but I feel guilty because before this we were just slowly going down the hill and now all of a sudden everything is changed.  And even now, I hear them having a normal conversation as I type this…\n",
      "\n",
      "=======\n",
      "\n",
      "Welcome. Sure sounds like you could use some help, short and long-term. Do you have power of attorney? Is assisted living or memory care feasible, financially or otherwise? What would you do if your parents no longer lived at home? Those are the questions that come to mind. Good luck, I'm sure others will chime in.\n",
      "\n",
      "=======\n",
      "{'source': 'https://alzconnected.org/discussion/59975/i-m-new-too-and-overwhelmed-for-now', 'source-tag': 'alzforum', 'title': 'I’m new too and overwhelmed for now'}\n"
     ]
    }
   ],
   "source": [
    "from src.embedding.vector_store import VectorStore\n",
    "from src.embedding.embedding_models import EmbeddingModels\n",
    "\n",
    "embedding_model = EmbeddingModels().get_bge_embedding(model_name=\"BAAI/bge-base-en\") # use default model\n",
    "chroma_kb = VectorStore.get_chroma_vectorstore(\n",
    "    vectorstore_path='./data/vector_database/calm_kb', \n",
    "    embedding=embedding_model\n",
    ")\n",
    "\n",
    "# query_text = 'what is ADRD' # failed, no results\n",
    "query_text = 'how to take care of ADRD parents' \n",
    "similarity_search_res = VectorStore.retrieve_docs(query=query_text, vectorstore=chroma_kb, k=5)\n",
    "\n",
    "for doc in similarity_search_res:\n",
    "    print(doc.page_content)\n",
    "    print(doc.metadata)"
   ]
  },
  {
   "cell_type": "markdown",
   "metadata": {},
   "source": [
    "### Retrieve grading \n",
    "*Preventing hallucination and erroneous retrieval that is not relevant to the question but based on the idiosyncrasies of the embedding model or chunking.*\n",
    "\n",
    "---------------------"
   ]
  },
  {
   "cell_type": "code",
   "execution_count": null,
   "metadata": {},
   "outputs": [],
   "source": [
    "from typing import List\n",
    "from retrieval_grading import grade_retrieval\n",
    "\n",
    "# Grade the retrieval results\n",
    "graded_docs = grade_retrieval(query_text, similarity_search_res)\n",
    "\n",
    "# Print graded results\n",
    "for doc in graded_docs:\n",
    "    print(f\"Document content: {doc}\")\n"
   ]
  },
  {
   "cell_type": "markdown",
   "metadata": {},
   "source": [
    "### Generate answer\n",
    "*Using the graded documents to generate an answer.*\n",
    "\n",
    "--------------------------------"
   ]
  },
  {
   "cell_type": "code",
   "execution_count": null,
   "metadata": {},
   "outputs": [],
   "source": [
    "from answer_generation import generate_answer\n",
    "\n",
    "answer = generate_answer(query_text, similarity_search_res)\n",
    "\n",
    "print(answer)"
   ]
  }
 ],
 "metadata": {
  "kernelspec": {
   "display_name": "Python 3",
   "language": "python",
   "name": "python3"
  },
  "language_info": {
   "codemirror_mode": {
    "name": "ipython",
    "version": 3
   },
   "file_extension": ".py",
   "mimetype": "text/x-python",
   "name": "python",
   "nbconvert_exporter": "python",
   "pygments_lexer": "ipython3",
   "version": "3.11.8"
  }
 },
 "nbformat": 4,
 "nbformat_minor": 2
}
