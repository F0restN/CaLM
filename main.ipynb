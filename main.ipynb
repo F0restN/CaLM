{
 "cells": [
  {
   "cell_type": "code",
   "execution_count": 1,
   "metadata": {},
   "outputs": [],
   "source": [
    "## Load the model\n",
    "from langchain_ollama import ChatOllama\n",
    "\n",
    "local_llm = 'llama3.2'\n",
    "local_embedding_model = 'BAAI/bge-m3'\n",
    "\n",
    "llm = ChatOllama(model=local_llm, temperature=0.0)\n",
    "llm_json_mode = ChatOllama(model=local_llm, temperature=0.0, format='json')"
   ]
  },
  {
   "cell_type": "markdown",
   "metadata": {},
   "source": [
    "### Vector store and embedding model\n",
    "*Using basic query to test the vectorstore and embedding model.*\n",
    "\n",
    "---------------------------"
   ]
  },
  {
   "cell_type": "code",
   "execution_count": 2,
   "metadata": {},
   "outputs": [
    {
     "ename": "AttributeError",
     "evalue": "module 'decoders' has no attribute 'DecodeStream'",
     "output_type": "error",
     "traceback": [
      "\u001b[0;31m---------------------------------------------------------------------------\u001b[0m",
      "\u001b[0;31mAttributeError\u001b[0m                            Traceback (most recent call last)",
      "Cell \u001b[0;32mIn[2], line 1\u001b[0m\n\u001b[0;32m----> 1\u001b[0m \u001b[38;5;28;01mfrom\u001b[39;00m \u001b[38;5;21;01membedding\u001b[39;00m\u001b[38;5;21;01m.\u001b[39;00m\u001b[38;5;21;01mvector_store\u001b[39;00m \u001b[38;5;28;01mimport\u001b[39;00m VectorStore\n\u001b[1;32m      2\u001b[0m \u001b[38;5;28;01mfrom\u001b[39;00m \u001b[38;5;21;01membedding\u001b[39;00m\u001b[38;5;21;01m.\u001b[39;00m\u001b[38;5;21;01membedding_models\u001b[39;00m \u001b[38;5;28;01mimport\u001b[39;00m EmbeddingModels\n\u001b[1;32m      4\u001b[0m embedding_model \u001b[38;5;241m=\u001b[39m EmbeddingModels()\u001b[38;5;241m.\u001b[39mget_bge_embedding(model_name\u001b[38;5;241m=\u001b[39mlocal_embedding_model)\n",
      "File \u001b[0;32m~/Development-Projects/LangchainRag_Ollama/src/embedding/vector_store.py:4\u001b[0m\n\u001b[1;32m      2\u001b[0m \u001b[38;5;28;01mimport\u001b[39;00m \u001b[38;5;21;01mshutil\u001b[39;00m\n\u001b[1;32m      3\u001b[0m \u001b[38;5;28;01mfrom\u001b[39;00m \u001b[38;5;21;01mtyping\u001b[39;00m \u001b[38;5;28;01mimport\u001b[39;00m List\n\u001b[0;32m----> 4\u001b[0m \u001b[38;5;28;01mfrom\u001b[39;00m \u001b[38;5;21;01mlangchain_chroma\u001b[39;00m \u001b[38;5;28;01mimport\u001b[39;00m Chroma\n\u001b[1;32m      5\u001b[0m \u001b[38;5;28;01mfrom\u001b[39;00m \u001b[38;5;21;01mlangchain_core\u001b[39;00m\u001b[38;5;21;01m.\u001b[39;00m\u001b[38;5;21;01mdocuments\u001b[39;00m \u001b[38;5;28;01mimport\u001b[39;00m Document\n\u001b[1;32m      6\u001b[0m \u001b[38;5;28;01mfrom\u001b[39;00m \u001b[38;5;21;01mlangchain_community\u001b[39;00m\u001b[38;5;21;01m.\u001b[39;00m\u001b[38;5;21;01membeddings\u001b[39;00m \u001b[38;5;28;01mimport\u001b[39;00m HuggingFaceEmbeddings\n",
      "File \u001b[0;32m~/Development-Projects/LangchainRag_Ollama/env/LangchainRag_Ollama/lib/python3.11/site-packages/langchain_chroma/__init__.py:6\u001b[0m\n\u001b[1;32m      1\u001b[0m \u001b[38;5;124;03m\"\"\"This is the langchain_chroma package.\u001b[39;00m\n\u001b[1;32m      2\u001b[0m \n\u001b[1;32m      3\u001b[0m \u001b[38;5;124;03mIt contains the Chroma class for handling various tasks.\u001b[39;00m\n\u001b[1;32m      4\u001b[0m \u001b[38;5;124;03m\"\"\"\u001b[39;00m\n\u001b[0;32m----> 6\u001b[0m \u001b[38;5;28;01mfrom\u001b[39;00m \u001b[38;5;21;01mlangchain_chroma\u001b[39;00m\u001b[38;5;21;01m.\u001b[39;00m\u001b[38;5;21;01mvectorstores\u001b[39;00m \u001b[38;5;28;01mimport\u001b[39;00m Chroma\n\u001b[1;32m      8\u001b[0m __all__ \u001b[38;5;241m=\u001b[39m [\n\u001b[1;32m      9\u001b[0m     \u001b[38;5;124m\"\u001b[39m\u001b[38;5;124mChroma\u001b[39m\u001b[38;5;124m\"\u001b[39m,\n\u001b[1;32m     10\u001b[0m ]\n",
      "File \u001b[0;32m~/Development-Projects/LangchainRag_Ollama/env/LangchainRag_Ollama/lib/python3.11/site-packages/langchain_chroma/vectorstores.py:24\u001b[0m\n\u001b[1;32m     10\u001b[0m \u001b[38;5;28;01mimport\u001b[39;00m \u001b[38;5;21;01muuid\u001b[39;00m\n\u001b[1;32m     11\u001b[0m \u001b[38;5;28;01mfrom\u001b[39;00m \u001b[38;5;21;01mtyping\u001b[39;00m \u001b[38;5;28;01mimport\u001b[39;00m (\n\u001b[1;32m     12\u001b[0m     TYPE_CHECKING,\n\u001b[1;32m     13\u001b[0m     Any,\n\u001b[0;32m   (...)\u001b[0m\n\u001b[1;32m     21\u001b[0m     Union,\n\u001b[1;32m     22\u001b[0m )\n\u001b[0;32m---> 24\u001b[0m \u001b[38;5;28;01mimport\u001b[39;00m \u001b[38;5;21;01mchromadb\u001b[39;00m\n\u001b[1;32m     25\u001b[0m \u001b[38;5;28;01mimport\u001b[39;00m \u001b[38;5;21;01mchromadb\u001b[39;00m\u001b[38;5;21;01m.\u001b[39;00m\u001b[38;5;21;01mconfig\u001b[39;00m\n\u001b[1;32m     26\u001b[0m \u001b[38;5;28;01mimport\u001b[39;00m \u001b[38;5;21;01mnumpy\u001b[39;00m \u001b[38;5;28;01mas\u001b[39;00m \u001b[38;5;21;01mnp\u001b[39;00m\n",
      "File \u001b[0;32m~/Development-Projects/LangchainRag_Ollama/env/LangchainRag_Ollama/lib/python3.11/site-packages/chromadb/__init__.py:3\u001b[0m\n\u001b[1;32m      1\u001b[0m \u001b[38;5;28;01mfrom\u001b[39;00m \u001b[38;5;21;01mtyping\u001b[39;00m \u001b[38;5;28;01mimport\u001b[39;00m Dict, Optional\n\u001b[1;32m      2\u001b[0m \u001b[38;5;28;01mimport\u001b[39;00m \u001b[38;5;21;01mlogging\u001b[39;00m\n\u001b[0;32m----> 3\u001b[0m \u001b[38;5;28;01mfrom\u001b[39;00m \u001b[38;5;21;01mchromadb\u001b[39;00m\u001b[38;5;21;01m.\u001b[39;00m\u001b[38;5;21;01mapi\u001b[39;00m\u001b[38;5;21;01m.\u001b[39;00m\u001b[38;5;21;01mclient\u001b[39;00m \u001b[38;5;28;01mimport\u001b[39;00m Client \u001b[38;5;28;01mas\u001b[39;00m ClientCreator\n\u001b[1;32m      4\u001b[0m \u001b[38;5;28;01mfrom\u001b[39;00m \u001b[38;5;21;01mchromadb\u001b[39;00m\u001b[38;5;21;01m.\u001b[39;00m\u001b[38;5;21;01mapi\u001b[39;00m\u001b[38;5;21;01m.\u001b[39;00m\u001b[38;5;21;01mclient\u001b[39;00m \u001b[38;5;28;01mimport\u001b[39;00m AdminClient \u001b[38;5;28;01mas\u001b[39;00m AdminClientCreator\n\u001b[1;32m      5\u001b[0m \u001b[38;5;28;01mfrom\u001b[39;00m \u001b[38;5;21;01mchromadb\u001b[39;00m\u001b[38;5;21;01m.\u001b[39;00m\u001b[38;5;21;01mapi\u001b[39;00m\u001b[38;5;21;01m.\u001b[39;00m\u001b[38;5;21;01masync_client\u001b[39;00m \u001b[38;5;28;01mimport\u001b[39;00m AsyncClient \u001b[38;5;28;01mas\u001b[39;00m AsyncClientCreator\n",
      "File \u001b[0;32m~/Development-Projects/LangchainRag_Ollama/env/LangchainRag_Ollama/lib/python3.11/site-packages/chromadb/api/__init__.py:34\u001b[0m\n\u001b[1;32m     32\u001b[0m \u001b[38;5;28;01mfrom\u001b[39;00m \u001b[38;5;21;01mchromadb\u001b[39;00m\u001b[38;5;21;01m.\u001b[39;00m\u001b[38;5;21;01mtypes\u001b[39;00m \u001b[38;5;28;01mimport\u001b[39;00m Database, Tenant, Collection \u001b[38;5;28;01mas\u001b[39;00m CollectionModel\n\u001b[1;32m     33\u001b[0m \u001b[38;5;28;01mimport\u001b[39;00m \u001b[38;5;21;01mchromadb\u001b[39;00m\u001b[38;5;21;01m.\u001b[39;00m\u001b[38;5;21;01mutils\u001b[39;00m\u001b[38;5;21;01m.\u001b[39;00m\u001b[38;5;21;01membedding_functions\u001b[39;00m \u001b[38;5;28;01mas\u001b[39;00m \u001b[38;5;21;01mef\u001b[39;00m\n\u001b[0;32m---> 34\u001b[0m \u001b[38;5;28;01mfrom\u001b[39;00m \u001b[38;5;21;01mchromadb\u001b[39;00m\u001b[38;5;21;01m.\u001b[39;00m\u001b[38;5;21;01mapi\u001b[39;00m\u001b[38;5;21;01m.\u001b[39;00m\u001b[38;5;21;01mmodels\u001b[39;00m\u001b[38;5;21;01m.\u001b[39;00m\u001b[38;5;21;01mCollection\u001b[39;00m \u001b[38;5;28;01mimport\u001b[39;00m Collection\n\u001b[1;32m     37\u001b[0m \u001b[38;5;66;03m# Re-export the async version\u001b[39;00m\n\u001b[1;32m     38\u001b[0m \u001b[38;5;28;01mfrom\u001b[39;00m \u001b[38;5;21;01mchromadb\u001b[39;00m\u001b[38;5;21;01m.\u001b[39;00m\u001b[38;5;21;01mapi\u001b[39;00m\u001b[38;5;21;01m.\u001b[39;00m\u001b[38;5;21;01masync_api\u001b[39;00m \u001b[38;5;28;01mimport\u001b[39;00m (  \u001b[38;5;66;03m# noqa: F401\u001b[39;00m\n\u001b[1;32m     39\u001b[0m     AsyncBaseAPI \u001b[38;5;28;01mas\u001b[39;00m AsyncBaseAPI,\n\u001b[1;32m     40\u001b[0m     AsyncClientAPI \u001b[38;5;28;01mas\u001b[39;00m AsyncClientAPI,\n\u001b[1;32m     41\u001b[0m     AsyncAdminAPI \u001b[38;5;28;01mas\u001b[39;00m AsyncAdminAPI,\n\u001b[1;32m     42\u001b[0m     AsyncServerAPI \u001b[38;5;28;01mas\u001b[39;00m AsyncServerAPI,\n\u001b[1;32m     43\u001b[0m )\n",
      "File \u001b[0;32m~/Development-Projects/LangchainRag_Ollama/env/LangchainRag_Ollama/lib/python3.11/site-packages/chromadb/api/models/Collection.py:3\u001b[0m\n\u001b[1;32m      1\u001b[0m \u001b[38;5;28;01mfrom\u001b[39;00m \u001b[38;5;21;01mtyping\u001b[39;00m \u001b[38;5;28;01mimport\u001b[39;00m TYPE_CHECKING, Optional, Union\n\u001b[0;32m----> 3\u001b[0m \u001b[38;5;28;01mfrom\u001b[39;00m \u001b[38;5;21;01mchromadb\u001b[39;00m\u001b[38;5;21;01m.\u001b[39;00m\u001b[38;5;21;01mapi\u001b[39;00m\u001b[38;5;21;01m.\u001b[39;00m\u001b[38;5;21;01mmodels\u001b[39;00m\u001b[38;5;21;01m.\u001b[39;00m\u001b[38;5;21;01mCollectionCommon\u001b[39;00m \u001b[38;5;28;01mimport\u001b[39;00m CollectionCommon\n\u001b[1;32m      4\u001b[0m \u001b[38;5;28;01mfrom\u001b[39;00m \u001b[38;5;21;01mchromadb\u001b[39;00m\u001b[38;5;21;01m.\u001b[39;00m\u001b[38;5;21;01mapi\u001b[39;00m\u001b[38;5;21;01m.\u001b[39;00m\u001b[38;5;21;01mtypes\u001b[39;00m \u001b[38;5;28;01mimport\u001b[39;00m (\n\u001b[1;32m      5\u001b[0m     URI,\n\u001b[1;32m      6\u001b[0m     CollectionMetadata,\n\u001b[0;32m   (...)\u001b[0m\n\u001b[1;32m     21\u001b[0m     IncludeEnum,\n\u001b[1;32m     22\u001b[0m )\n\u001b[1;32m     24\u001b[0m \u001b[38;5;28;01mimport\u001b[39;00m \u001b[38;5;21;01mlogging\u001b[39;00m\n",
      "File \u001b[0;32m~/Development-Projects/LangchainRag_Ollama/env/LangchainRag_Ollama/lib/python3.11/site-packages/chromadb/api/models/CollectionCommon.py:100\u001b[0m\n\u001b[1;32m     95\u001b[0m         \u001b[38;5;28;01mreturn\u001b[39;00m wrapper\n\u001b[1;32m     97\u001b[0m     \u001b[38;5;28;01mreturn\u001b[39;00m decorator\n\u001b[0;32m--> 100\u001b[0m \u001b[38;5;28;43;01mclass\u001b[39;49;00m\u001b[43m \u001b[49m\u001b[38;5;21;43;01mCollectionCommon\u001b[39;49;00m\u001b[43m(\u001b[49m\u001b[43mGeneric\u001b[49m\u001b[43m[\u001b[49m\u001b[43mClientT\u001b[49m\u001b[43m]\u001b[49m\u001b[43m)\u001b[49m\u001b[43m:\u001b[49m\n\u001b[1;32m    101\u001b[0m \u001b[43m    \u001b[49m\u001b[43m_model\u001b[49m\u001b[43m:\u001b[49m\u001b[43m \u001b[49m\u001b[43mCollectionModel\u001b[49m\n\u001b[1;32m    102\u001b[0m \u001b[43m    \u001b[49m\u001b[43m_client\u001b[49m\u001b[43m:\u001b[49m\u001b[43m \u001b[49m\u001b[43mClientT\u001b[49m\n",
      "File \u001b[0;32m~/Development-Projects/LangchainRag_Ollama/env/LangchainRag_Ollama/lib/python3.11/site-packages/chromadb/api/models/CollectionCommon.py:112\u001b[0m, in \u001b[0;36mCollectionCommon\u001b[0;34m()\u001b[0m\n\u001b[1;32m    103\u001b[0m _embedding_function: Optional[EmbeddingFunction[Embeddable]]\n\u001b[1;32m    104\u001b[0m _data_loader: Optional[DataLoader[Loadable]]\n\u001b[1;32m    106\u001b[0m \u001b[38;5;28;01mdef\u001b[39;00m \u001b[38;5;21m__init__\u001b[39m(\n\u001b[1;32m    107\u001b[0m     \u001b[38;5;28mself\u001b[39m,\n\u001b[1;32m    108\u001b[0m     client: ClientT,\n\u001b[1;32m    109\u001b[0m     model: CollectionModel,\n\u001b[1;32m    110\u001b[0m     embedding_function: Optional[\n\u001b[1;32m    111\u001b[0m         EmbeddingFunction[Embeddable]\n\u001b[0;32m--> 112\u001b[0m     ] \u001b[38;5;241m=\u001b[39m \u001b[43mef\u001b[49m\u001b[38;5;241;43m.\u001b[39;49m\u001b[43mDefaultEmbeddingFunction\u001b[49m\u001b[43m(\u001b[49m\u001b[43m)\u001b[49m,  \u001b[38;5;66;03m# type: ignore\u001b[39;00m\n\u001b[1;32m    113\u001b[0m     data_loader: Optional[DataLoader[Loadable]] \u001b[38;5;241m=\u001b[39m \u001b[38;5;28;01mNone\u001b[39;00m,\n\u001b[1;32m    114\u001b[0m ):\n\u001b[1;32m    115\u001b[0m \u001b[38;5;250m    \u001b[39m\u001b[38;5;124;03m\"\"\"Initializes a new instance of the Collection class.\"\"\"\u001b[39;00m\n\u001b[1;32m    117\u001b[0m     \u001b[38;5;28mself\u001b[39m\u001b[38;5;241m.\u001b[39m_client \u001b[38;5;241m=\u001b[39m client\n",
      "File \u001b[0;32m~/Development-Projects/LangchainRag_Ollama/env/LangchainRag_Ollama/lib/python3.11/site-packages/chromadb/utils/embedding_functions/__init__.py:57\u001b[0m, in \u001b[0;36mDefaultEmbeddingFunction\u001b[0;34m()\u001b[0m\n\u001b[1;32m     52\u001b[0m     \u001b[38;5;28;01mreturn\u001b[39;00m \u001b[38;5;28;01mNone\u001b[39;00m\n\u001b[1;32m     53\u001b[0m \u001b[38;5;28;01melse\u001b[39;00m:\n\u001b[1;32m     54\u001b[0m     \u001b[38;5;28;01mreturn\u001b[39;00m cast(\n\u001b[1;32m     55\u001b[0m         EmbeddingFunction[Documents],\n\u001b[1;32m     56\u001b[0m         \u001b[38;5;66;03m# This is implicitly imported above\u001b[39;00m\n\u001b[0;32m---> 57\u001b[0m         \u001b[43mONNXMiniLM_L6_V2\u001b[49m\u001b[43m(\u001b[49m\u001b[43m)\u001b[49m,  \u001b[38;5;66;03m# type: ignore[name-defined] # noqa: F821\u001b[39;00m\n\u001b[1;32m     58\u001b[0m     )\n",
      "File \u001b[0;32m~/Development-Projects/LangchainRag_Ollama/env/LangchainRag_Ollama/lib/python3.11/site-packages/chromadb/utils/embedding_functions/onnx_mini_lm_l6_v2.py:70\u001b[0m, in \u001b[0;36mONNXMiniLM_L6_V2.__init__\u001b[0;34m(self, preferred_providers)\u001b[0m\n\u001b[1;32m     65\u001b[0m     \u001b[38;5;28;01mraise\u001b[39;00m \u001b[38;5;167;01mValueError\u001b[39;00m(\n\u001b[1;32m     66\u001b[0m         \u001b[38;5;124m\"\u001b[39m\u001b[38;5;124mThe onnxruntime python package is not installed. Please install it with `pip install onnxruntime`\u001b[39m\u001b[38;5;124m\"\u001b[39m\n\u001b[1;32m     67\u001b[0m     )\n\u001b[1;32m     68\u001b[0m \u001b[38;5;28;01mtry\u001b[39;00m:\n\u001b[1;32m     69\u001b[0m     \u001b[38;5;66;03m# Equivalent to from tokenizers import Tokenizer\u001b[39;00m\n\u001b[0;32m---> 70\u001b[0m     \u001b[38;5;28mself\u001b[39m\u001b[38;5;241m.\u001b[39mTokenizer \u001b[38;5;241m=\u001b[39m \u001b[43mimportlib\u001b[49m\u001b[38;5;241;43m.\u001b[39;49m\u001b[43mimport_module\u001b[49m\u001b[43m(\u001b[49m\u001b[38;5;124;43m\"\u001b[39;49m\u001b[38;5;124;43mtokenizers\u001b[39;49m\u001b[38;5;124;43m\"\u001b[39;49m\u001b[43m)\u001b[49m\u001b[38;5;241m.\u001b[39mTokenizer\n\u001b[1;32m     71\u001b[0m \u001b[38;5;28;01mexcept\u001b[39;00m \u001b[38;5;167;01mImportError\u001b[39;00m:\n\u001b[1;32m     72\u001b[0m     \u001b[38;5;28;01mraise\u001b[39;00m \u001b[38;5;167;01mValueError\u001b[39;00m(\n\u001b[1;32m     73\u001b[0m         \u001b[38;5;124m\"\u001b[39m\u001b[38;5;124mThe tokenizers python package is not installed. Please install it with `pip install tokenizers`\u001b[39m\u001b[38;5;124m\"\u001b[39m\n\u001b[1;32m     74\u001b[0m     )\n",
      "File \u001b[0;32m~/Development-Projects/LangchainRag_Ollama/env/LangchainRag_Ollama/lib/python3.11/importlib/__init__.py:126\u001b[0m, in \u001b[0;36mimport_module\u001b[0;34m(name, package)\u001b[0m\n\u001b[1;32m    124\u001b[0m             \u001b[38;5;28;01mbreak\u001b[39;00m\n\u001b[1;32m    125\u001b[0m         level \u001b[38;5;241m+\u001b[39m\u001b[38;5;241m=\u001b[39m \u001b[38;5;241m1\u001b[39m\n\u001b[0;32m--> 126\u001b[0m \u001b[38;5;28;01mreturn\u001b[39;00m \u001b[43m_bootstrap\u001b[49m\u001b[38;5;241;43m.\u001b[39;49m\u001b[43m_gcd_import\u001b[49m\u001b[43m(\u001b[49m\u001b[43mname\u001b[49m\u001b[43m[\u001b[49m\u001b[43mlevel\u001b[49m\u001b[43m:\u001b[49m\u001b[43m]\u001b[49m\u001b[43m,\u001b[49m\u001b[43m \u001b[49m\u001b[43mpackage\u001b[49m\u001b[43m,\u001b[49m\u001b[43m \u001b[49m\u001b[43mlevel\u001b[49m\u001b[43m)\u001b[49m\n",
      "File \u001b[0;32m~/Development-Projects/LangchainRag_Ollama/env/LangchainRag_Ollama/lib/python3.11/site-packages/tokenizers/__init__.py:94\u001b[0m\n\u001b[1;32m     75\u001b[0m     CONTIGUOUS \u001b[38;5;241m=\u001b[39m \u001b[38;5;124m\"\u001b[39m\u001b[38;5;124mcontiguous\u001b[39m\u001b[38;5;124m\"\u001b[39m\n\u001b[1;32m     78\u001b[0m \u001b[38;5;28;01mfrom\u001b[39;00m \u001b[38;5;21;01m.\u001b[39;00m\u001b[38;5;21;01mtokenizers\u001b[39;00m \u001b[38;5;28;01mimport\u001b[39;00m (\n\u001b[1;32m     79\u001b[0m     AddedToken,\n\u001b[1;32m     80\u001b[0m     Encoding,\n\u001b[0;32m   (...)\u001b[0m\n\u001b[1;32m     92\u001b[0m     __version__,\n\u001b[1;32m     93\u001b[0m )\n\u001b[0;32m---> 94\u001b[0m \u001b[38;5;28;01mfrom\u001b[39;00m \u001b[38;5;21;01m.\u001b[39;00m\u001b[38;5;21;01mimplementations\u001b[39;00m \u001b[38;5;28;01mimport\u001b[39;00m (\n\u001b[1;32m     95\u001b[0m     BertWordPieceTokenizer,\n\u001b[1;32m     96\u001b[0m     ByteLevelBPETokenizer,\n\u001b[1;32m     97\u001b[0m     CharBPETokenizer,\n\u001b[1;32m     98\u001b[0m     SentencePieceBPETokenizer,\n\u001b[1;32m     99\u001b[0m     SentencePieceUnigramTokenizer,\n\u001b[1;32m    100\u001b[0m )\n",
      "File \u001b[0;32m~/Development-Projects/LangchainRag_Ollama/env/LangchainRag_Ollama/lib/python3.11/site-packages/tokenizers/implementations/__init__.py:1\u001b[0m\n\u001b[0;32m----> 1\u001b[0m \u001b[38;5;28;01mfrom\u001b[39;00m \u001b[38;5;21;01m.\u001b[39;00m\u001b[38;5;21;01mbase_tokenizer\u001b[39;00m \u001b[38;5;28;01mimport\u001b[39;00m BaseTokenizer\n\u001b[1;32m      2\u001b[0m \u001b[38;5;28;01mfrom\u001b[39;00m \u001b[38;5;21;01m.\u001b[39;00m\u001b[38;5;21;01mbert_wordpiece\u001b[39;00m \u001b[38;5;28;01mimport\u001b[39;00m BertWordPieceTokenizer\n\u001b[1;32m      3\u001b[0m \u001b[38;5;28;01mfrom\u001b[39;00m \u001b[38;5;21;01m.\u001b[39;00m\u001b[38;5;21;01mbyte_level_bpe\u001b[39;00m \u001b[38;5;28;01mimport\u001b[39;00m ByteLevelBPETokenizer\n",
      "File \u001b[0;32m~/Development-Projects/LangchainRag_Ollama/env/LangchainRag_Ollama/lib/python3.11/site-packages/tokenizers/implementations/base_tokenizer.py:4\u001b[0m\n\u001b[1;32m      1\u001b[0m \u001b[38;5;28;01mfrom\u001b[39;00m \u001b[38;5;21;01mtyping\u001b[39;00m \u001b[38;5;28;01mimport\u001b[39;00m Dict, List, Optional, Tuple, Union\n\u001b[1;32m      3\u001b[0m \u001b[38;5;28;01mfrom\u001b[39;00m \u001b[38;5;21;01mtokenizers\u001b[39;00m \u001b[38;5;28;01mimport\u001b[39;00m AddedToken, EncodeInput, Encoding, InputSequence, Tokenizer\n\u001b[0;32m----> 4\u001b[0m \u001b[38;5;28;01mfrom\u001b[39;00m \u001b[38;5;21;01mtokenizers\u001b[39;00m\u001b[38;5;21;01m.\u001b[39;00m\u001b[38;5;21;01mdecoders\u001b[39;00m \u001b[38;5;28;01mimport\u001b[39;00m Decoder\n\u001b[1;32m      5\u001b[0m \u001b[38;5;28;01mfrom\u001b[39;00m \u001b[38;5;21;01mtokenizers\u001b[39;00m\u001b[38;5;21;01m.\u001b[39;00m\u001b[38;5;21;01mmodels\u001b[39;00m \u001b[38;5;28;01mimport\u001b[39;00m Model\n\u001b[1;32m      6\u001b[0m \u001b[38;5;28;01mfrom\u001b[39;00m \u001b[38;5;21;01mtokenizers\u001b[39;00m\u001b[38;5;21;01m.\u001b[39;00m\u001b[38;5;21;01mnormalizers\u001b[39;00m \u001b[38;5;28;01mimport\u001b[39;00m Normalizer\n",
      "File \u001b[0;32m~/Development-Projects/LangchainRag_Ollama/env/LangchainRag_Ollama/lib/python3.11/site-packages/tokenizers/decoders/__init__.py:15\u001b[0m\n\u001b[1;32m     13\u001b[0m CTC \u001b[38;5;241m=\u001b[39m decoders\u001b[38;5;241m.\u001b[39mCTC\n\u001b[1;32m     14\u001b[0m Sequence \u001b[38;5;241m=\u001b[39m decoders\u001b[38;5;241m.\u001b[39mSequence\n\u001b[0;32m---> 15\u001b[0m DecodeStream \u001b[38;5;241m=\u001b[39m \u001b[43mdecoders\u001b[49m\u001b[38;5;241;43m.\u001b[39;49m\u001b[43mDecodeStream\u001b[49m\n",
      "\u001b[0;31mAttributeError\u001b[0m: module 'decoders' has no attribute 'DecodeStream'"
     ]
    }
   ],
   "source": [
    "from embedding.vector_store import VectorStore\n",
    "from embedding.embedding_models import EmbeddingModels\n",
    "\n",
    "embedding_model = EmbeddingModels().get_bge_embedding(model_name=local_embedding_model)\n",
    "chroma_kb = VectorStore.get_chroma_vectorstore(\n",
    "    vectorstore_path='./data/vector_database/peer_kb', \n",
    "    embedding=embedding_model\n",
    ")\n",
    "\n",
    "# query_text = 'what is ADRD' # failed, no results\n",
    "query_text = 'what is the specialty for Chinese language. ' \n",
    "similarity_search_res = VectorStore.retrieve_docs(query=query_text, vectorstore=chroma_kb, k=5)\n",
    "\n",
    "for doc in similarity_search_res:\n",
    "    print(doc.page_content)\n",
    "    print(doc.metadata)"
   ]
  },
  {
   "cell_type": "markdown",
   "metadata": {},
   "source": [
    "### Retrieve grading \n",
    "*Preventing hallucination and erroneous retrieval that is not relevant to the question but based on the idiosyncrasies of the embedding model or chunking.*\n",
    "\n",
    "---------------------"
   ]
  },
  {
   "cell_type": "code",
   "execution_count": 1,
   "metadata": {},
   "outputs": [
    {
     "name": "stdout",
     "output_type": "stream",
     "text": [
      "\u001b[32m2025-01-14 @ 01:22:31\u001b[0m | \u001b[1mINFO    \u001b[0m | \u001b[36mutils.logger\u001b[0m:\u001b[36m<module>\u001b[0m:\u001b[36m56\u001b[0m - \u001b[1mLogger initialized successfully\u001b[0m\n"
     ]
    },
    {
     "ename": "NameError",
     "evalue": "name 'query_text' is not defined",
     "output_type": "error",
     "traceback": [
      "\u001b[0;31m---------------------------------------------------------------------------\u001b[0m",
      "\u001b[0;31mNameError\u001b[0m                                 Traceback (most recent call last)",
      "Cell \u001b[0;32mIn[1], line 6\u001b[0m\n\u001b[1;32m      3\u001b[0m \u001b[38;5;28;01mfrom\u001b[39;00m \u001b[38;5;21;01mlangchain\u001b[39;00m\u001b[38;5;21;01m.\u001b[39;00m\u001b[38;5;21;01mschema\u001b[39;00m \u001b[38;5;28;01mimport\u001b[39;00m Document\n\u001b[1;32m      5\u001b[0m \u001b[38;5;66;03m# Grade the retrieval results\u001b[39;00m\n\u001b[0;32m----> 6\u001b[0m graded_docs \u001b[38;5;241m=\u001b[39m grade_retrieval(\u001b[43mquery_text\u001b[49m, similarity_search_res, model\u001b[38;5;241m=\u001b[39m\u001b[38;5;124m\"\u001b[39m\u001b[38;5;124mmarco-o1\u001b[39m\u001b[38;5;124m\"\u001b[39m)\n\u001b[1;32m      8\u001b[0m \u001b[38;5;66;03m# Print graded results\u001b[39;00m\n\u001b[1;32m      9\u001b[0m \u001b[38;5;66;03m# for doc in graded_docs:\u001b[39;00m\n\u001b[1;32m     10\u001b[0m \u001b[38;5;66;03m#     print(f\"Document content: {doc}\")\u001b[39;00m\n\u001b[1;32m     11\u001b[0m     \n\u001b[1;32m     12\u001b[0m \u001b[38;5;66;03m# Filter out documents with relevance_score lower than 0.5\u001b[39;00m\n\u001b[1;32m     13\u001b[0m \u001b[38;5;28;01mclass\u001b[39;00m \u001b[38;5;21;01mReasonedDocument\u001b[39;00m:\n",
      "\u001b[0;31mNameError\u001b[0m: name 'query_text' is not defined"
     ]
    }
   ],
   "source": [
    "from typing import List\n",
    "from checkpoints.retrieval_grading import grade_retrieval\n",
    "from langchain.schema import Document\n",
    "\n",
    "# Grade the retrieval results\n",
    "graded_docs = grade_retrieval(query_text, similarity_search_res, model=\"marco-o1\")\n",
    "\n",
    "# Print graded results\n",
    "# for doc in graded_docs:\n",
    "#     print(f\"Document content: {doc}\")\n",
    "    \n",
    "# Filter out documents with relevance_score lower than 0.5\n",
    "class ReasonedDocument:\n",
    "    \"\"\"\n",
    "    A class to store the document, relevance score, and reasoning.\n",
    "    \"\"\"\n",
    "    \n",
    "    document: Document # Retrieved document from vector store in Document type\n",
    "    relevance_score: float # Relevance score by reasoning model\n",
    "    reasoning: str # Reasons for the relevance score\n",
    "    \n",
    "    def __init__(self, document, relevance_score, reasoning):\n",
    "        self.document = document\n",
    "        self.relevance_score = relevance_score\n",
    "        self.reasoning = reasoning\n",
    "        \n",
    "    def __str__(self):\n",
    "        return f\"Document: {self.document}\\nRelevance Score: {self.relevance_score}\\nReasoning: {self.reasoning}\\n\"\n",
    "\n",
    "# filtered_docs = [doc for doc, grade in zip(similarity_search_res, graded_docs) if grade[\"relevance_score\"] >= 0.5]\n",
    "\n",
    "filtered_docs = []\n",
    "\n",
    "for doc, grade in zip(similarity_search_res, graded_docs):\n",
    "    if grade[\"relevance_score\"] >= 0.5:\n",
    "        reasoned_doc = ReasonedDocument(\n",
    "            document=doc,\n",
    "            relevance_score=grade[\"relevance_score\"],\n",
    "            reasoning=grade[\"reasoning\"]\n",
    "        )\n",
    "        filtered_docs.append(reasoned_doc)\n",
    "\n",
    "\n",
    "# Print filtered results\n",
    "for doc in filtered_docs:\n",
    "    print(doc)\n",
    "    # print(doc.metadata)\n",
    "\n"
   ]
  },
  {
   "cell_type": "markdown",
   "metadata": {},
   "source": [
    "### Generate answer\n",
    "*Using the graded documents to generate an answer.*\n",
    "\n",
    "--------------------------------"
   ]
  },
  {
   "cell_type": "code",
   "execution_count": 1,
   "metadata": {},
   "outputs": [
    {
     "name": "stdout",
     "output_type": "stream",
     "text": [
      "\u001b[32m2025-01-13 @ 01:37:39\u001b[0m | \u001b[1mINFO    \u001b[0m | \u001b[36mutils.logger\u001b[0m:\u001b[36m<module>\u001b[0m:\u001b[36m56\u001b[0m - \u001b[1mLogger initialized successfully\u001b[0m\n"
     ]
    },
    {
     "ename": "NameError",
     "evalue": "name 'filtered_docs' is not defined",
     "output_type": "error",
     "traceback": [
      "\u001b[0;31m---------------------------------------------------------------------------\u001b[0m",
      "\u001b[0;31mNameError\u001b[0m                                 Traceback (most recent call last)",
      "Cell \u001b[0;32mIn[1], line 3\u001b[0m\n\u001b[1;32m      1\u001b[0m \u001b[38;5;28;01mfrom\u001b[39;00m \u001b[38;5;21;01manswer_generation\u001b[39;00m \u001b[38;5;28;01mimport\u001b[39;00m generate_answer\n\u001b[0;32m----> 3\u001b[0m context_chunks \u001b[38;5;241m=\u001b[39m [doc\u001b[38;5;241m.\u001b[39mdocument \u001b[38;5;28;01mfor\u001b[39;00m doc \u001b[38;5;129;01min\u001b[39;00m \u001b[43mfiltered_docs\u001b[49m]\n\u001b[1;32m      5\u001b[0m answer \u001b[38;5;241m=\u001b[39m generate_answer(query_text, context_chunks)\n\u001b[1;32m      7\u001b[0m \u001b[38;5;28mprint\u001b[39m(answer)\n",
      "\u001b[0;31mNameError\u001b[0m: name 'filtered_docs' is not defined"
     ]
    }
   ],
   "source": [
    "from answer_generation import generate_answer\n",
    "\n",
    "context_chunks = [doc.document for doc in filtered_docs]\n",
    "\n",
    "# TODO: handle the case where context_chunks is empty, answer should specify that we don't have relevant information.\n",
    "\n",
    "answer = generate_answer(query_text, context_chunks)\n",
    "\n",
    "print(answer)"
   ]
  }
 ],
 "metadata": {
  "kernelspec": {
   "display_name": "Python 3",
   "language": "python",
   "name": "python3"
  },
  "language_info": {
   "codemirror_mode": {
    "name": "ipython",
    "version": 3
   },
   "file_extension": ".py",
   "mimetype": "text/x-python",
   "name": "python",
   "nbconvert_exporter": "python",
   "pygments_lexer": "ipython3",
   "version": "3.11.8"
  }
 },
 "nbformat": 4,
 "nbformat_minor": 2
}
